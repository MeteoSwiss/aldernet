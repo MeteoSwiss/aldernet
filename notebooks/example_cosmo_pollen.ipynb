{
 "cells": [
  {
   "attachments": {},
   "cell_type": "markdown",
   "metadata": {},
   "source": [
    "It shows pollen concentrations over the Alps on the 15th of February 2020 at 8 o'clock in the evening. Displayed are hourly Alder (Alnus) pollen concentration averages. The field is produced by the COSMO-1E weather model, on the typical COSMO-1E domain over the greater alpine area. The visible layer corresponds to the lowest model layer (i.e. the layer closest to the surface). Such data is used at MeteoSwiss to provide the animated pollen maps in the MeteoSwiss-App. These plots with iconarray are used for scientific presentations and visual verification of machine learning models for pollen forecasting."
   ]
  },
  {
   "cell_type": "code",
   "execution_count": null,
   "metadata": {},
   "outputs": [],
   "source": [
    "# IGNORE THIS CELL WHICH CUSTOMIZES LAYOUT AND STYLING OF THE NOTEBOOK !\n",
    "%matplotlib inline\n",
    "%config InlineBackend.figure_format = 'retina'\n",
    "import warnings\n",
    "import matplotlib as plt\n",
    "plt.style.use([\"dark_background\"])\n",
    "warnings.filterwarnings(\"ignore\", category=FutureWarning)\n",
    "warnings.filterwarnings = lambda *a, **kw: None"
   ]
  },
  {
   "cell_type": "code",
   "execution_count": null,
   "metadata": {},
   "outputs": [],
   "source": [
    "import psyplot.project as psy\n",
    "import xarray as xr\n",
    "import numpy as np\n",
    "import iconarray"
   ]
  },
  {
   "cell_type": "code",
   "execution_count": null,
   "metadata": {},
   "outputs": [],
   "source": [
    "ds = xr.open_dataset(\"/scratch/sadamov/for_annika/data.nc\")\n",
    "ds.ALNU.values = np.log10(ds.ALNU.values + 1)"
   ]
  },
  {
   "cell_type": "code",
   "execution_count": null,
   "metadata": {},
   "outputs": [],
   "source": [
    "plot1 = ds.psy.plot.mapplot(\n",
    "    name=\"ALNU\",\n",
    "    title=\"Alder Pollen in the Alps on 2020-02-15 20h\",\n",
    "    titlesize=15,\n",
    "    lakes=True,\n",
    "    borders=True,\n",
    "    rivers=True,\n",
    "    grid_color=\"white\",\n",
    "    cticksize=8,\n",
    "    clabel=\"Log. Pollen Concentrations [Pollen/m³]\",\n",
    "    grid_labelsize=8,\n",
    "    projection='robin',\n",
    "    cmap='RdBu_r')\n",
    "\n",
    "plot1.show()"
   ]
  },
  {
   "cell_type": "code",
   "execution_count": null,
   "metadata": {},
   "outputs": [],
   "source": []
  }
 ],
 "metadata": {
  "kernelspec": {
   "display_name": "aldernet",
   "language": "python",
   "name": "python3"
  },
  "language_info": {
   "codemirror_mode": {
    "name": "ipython",
    "version": 3
   },
   "file_extension": ".py",
   "mimetype": "text/x-python",
   "name": "python",
   "nbconvert_exporter": "python",
   "pygments_lexer": "ipython3",
   "version": "3.10.6 | packaged by conda-forge | (main, Aug 22 2022, 20:35:26) [GCC 10.4.0]"
  },
  "orig_nbformat": 4,
  "vscode": {
   "interpreter": {
    "hash": "8461325da64fb0d34dde72261ee183b909101a2f4d8537238d9177fc08f3947e"
   }
  }
 },
 "nbformat": 4,
 "nbformat_minor": 2
}
