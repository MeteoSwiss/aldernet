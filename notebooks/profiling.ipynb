{
 "cells": [
  {
   "cell_type": "code",
   "execution_count": 2,
   "metadata": {},
   "outputs": [],
   "source": [
    "import numpy as np\n",
    "import pandas as pd\n",
    "import xarray as xr\n",
    "from pandas_profiling import ProfileReport\n",
    "from pyprojroot import here\n",
    "from aldernet.data.data_utils import Params"
   ]
  },
  {
   "cell_type": "code",
   "execution_count": null,
   "metadata": {},
   "outputs": [],
   "source": [
    "path_data = \"/scratch/sadamov/pyprojects_data/aldernet/npy/small/\"\n",
    "data = xr.open_zarr(\"/scratch/sadamov/pyprojects_data/aldernet/data.zarr\")\n",
    "hazel_train = np.load(path_data + \"hazel_train.npy\")\n",
    "hazel_valid = np.load(path_data + \"hazel_valid.npy\")\n",
    "alder_train = np.load(path_data + \"alder_train.npy\")\n",
    "alder_valid = np.load(path_data + \"alder_valid.npy\")\n",
    "weather_train = np.load(path_data + \"weather_train.npy\")\n",
    "weather_valid = np.load(path_data + \"weather_valid.npy\")"
   ]
  },
  {
   "cell_type": "code",
   "execution_count": null,
   "metadata": {},
   "outputs": [],
   "source": [
    "df_combined = pd.DataFrame({\"hazel_train\": hazel_train.flatten(\"C\"),\n",
    "                            \"alder_train\": hazel_train.flatten(\"C\")})\n",
    "df_combined.hist(bins=30)"
   ]
  },
  {
   "cell_type": "code",
   "execution_count": null,
   "metadata": {},
   "outputs": [],
   "source": [
    "# df_combined = pd.DataFrame({\"hazel_valid\": hazel_valid.flatten(\"C\"),\n",
    "#                             \"alder_valid\": hazel_valid.flatten(\"C\")})\n",
    "# df_combined.hist(bins=30)"
   ]
  },
  {
   "cell_type": "code",
   "execution_count": null,
   "metadata": {},
   "outputs": [],
   "source": [
    "for i,item in enumerate(Params().weather):\n",
    "  df_combined[item] = weather_train[:, :, :, i].flatten(\"C\")"
   ]
  },
  {
   "cell_type": "code",
   "execution_count": null,
   "metadata": {},
   "outputs": [],
   "source": [
    "df_sample = df_combined.sample(10000)"
   ]
  },
  {
   "cell_type": "code",
   "execution_count": null,
   "metadata": {},
   "outputs": [],
   "source": [
    "profile = ProfileReport(\n",
    "    df_sample,\n",
    "    title=\"Pandas Profiling Report\",\n",
    "    dark_mode=False,\n",
    "    missing_diagrams=None,\n",
    "    interactions=None)\n",
    "profile.config.html.minify_html = True\n",
    "profile.to_file(str(here()) + \"/output/\" + \"profiling_report.html\")\n",
    "profile.invalidate_cache()\n"
   ]
  }
 ],
 "metadata": {
  "kernelspec": {
   "display_name": "aldernet",
   "language": "python",
   "name": "python3"
  },
  "language_info": {
   "codemirror_mode": {
    "name": "ipython",
    "version": 3
   },
   "file_extension": ".py",
   "mimetype": "text/x-python",
   "name": "python",
   "nbconvert_exporter": "python",
   "pygments_lexer": "ipython3",
   "version": "3.10.6"
  },
  "orig_nbformat": 4,
  "vscode": {
   "interpreter": {
    "hash": "8e2d9c22ae318781ef8415a44bbe78adb9f5828270e5d54987eeb76643590678"
   }
  }
 },
 "nbformat": 4,
 "nbformat_minor": 2
}
